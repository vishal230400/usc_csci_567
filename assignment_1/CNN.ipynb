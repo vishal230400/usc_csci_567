{
 "cells": [
  {
   "cell_type": "code",
   "execution_count": 16,
   "metadata": {},
   "outputs": [],
   "source": [
    "import torch\n",
    "import torchvision\n",
    "import os"
   ]
  },
  {
   "cell_type": "code",
   "execution_count": 17,
   "metadata": {},
   "outputs": [
    {
     "name": "stdout",
     "output_type": "stream",
     "text": [
      "Files already downloaded and verified\n",
      "Files already downloaded and verified\n"
     ]
    }
   ],
   "source": [
    "transform = torchvision.transforms.Compose([\n",
    "    torchvision.transforms.ToTensor(),\n",
    "    torchvision.transforms.Normalize((0.5, 0.5, 0.5), (0.5, 0.5, 0.5))\n",
    "])\n",
    "\n",
    "root_dir='data'\n",
    "trainset = torchvision.datasets.CIFAR10(root=root_dir, train=True, download=True, transform=transform)\n",
    "trainloader = torch.utils.data.DataLoader(trainset, batch_size=64, shuffle=True)\n",
    "testset = torchvision.datasets.CIFAR10(root=root_dir, train=False, download=True, transform=transform)\n",
    "testloader = torch.utils.data.DataLoader(testset, batch_size=64, shuffle=False)"
   ]
  },
  {
   "cell_type": "code",
   "execution_count": 18,
   "metadata": {},
   "outputs": [
    {
     "name": "stdout",
     "output_type": "stream",
     "text": [
      "50000 10000\n",
      "782 157\n"
     ]
    }
   ],
   "source": [
    "print(len(trainset),len(testset))\n",
    "print(len(trainloader),len(testloader))"
   ]
  },
  {
   "cell_type": "code",
   "execution_count": 19,
   "metadata": {},
   "outputs": [],
   "source": [
    "import torch\n",
    "import torch.nn as nn\n",
    "\n",
    "class CNN(nn.Module):\n",
    "    def __init__(self):\n",
    "        super(CNN, self).__init__()\n",
    "        self.conv1 = nn.Conv2d(in_channels=3, out_channels=32, kernel_size=3, stride=1, padding=1)\n",
    "        self.pool = nn.MaxPool2d(kernel_size=2, stride=2, padding=0)\n",
    "        self.conv2 = nn.Conv2d(in_channels=32, out_channels=64, kernel_size=3, stride=1, padding=1)\n",
    "        self.conv3 = nn.Conv2d(in_channels=64, out_channels=128, kernel_size=3, stride=1, padding=1)\n",
    "        self.fc1 = nn.Linear(128 * 16 * 16, 256)\n",
    "        self.fc2 = nn.Linear(256, 10)\n",
    "\n",
    "    def forward(self, x):\n",
    "        x = self.conv1(x)\n",
    "        x = nn.ReLU()(x)\n",
    "        x = self.pool(x)\n",
    "        x = self.conv2(x)\n",
    "        x = nn.ReLU()(x)\n",
    "        x = self.conv3(x)\n",
    "        x = nn.ReLU()(x)\n",
    "        x = x.view(x.size(0), -1)\n",
    "        x = self.fc1(x)\n",
    "        x = self.fc2(x)\n",
    "        return x\n",
    "\n",
    "model = CNN()"
   ]
  },
  {
   "cell_type": "code",
   "execution_count": 20,
   "metadata": {},
   "outputs": [],
   "source": [
    "criterion = torch.nn.CrossEntropyLoss()\n",
    "optimizer = torch.optim.Adam(model.parameters(), lr=0.001)"
   ]
  },
  {
   "cell_type": "code",
   "execution_count": 21,
   "metadata": {},
   "outputs": [],
   "source": [
    "checkpoint_dir = 'checkpoints_cnn'\n",
    "os.makedirs(checkpoint_dir, exist_ok=True)\n",
    "\n",
    "def find_last_checkpoint():\n",
    "    checkpoints = [f for f in os.listdir(checkpoint_dir) if f.startswith('model_epoch_')]\n",
    "    if not checkpoints:\n",
    "        return None, 0\n",
    "    checkpoints.sort(key=lambda x: int(x.split('_')[-1].split('.')[0]), reverse=True)\n",
    "    last_checkpoint = checkpoints[0]\n",
    "    last_epoch = int(last_checkpoint.split('_')[-1].split('.')[0])\n",
    "    return os.path.join(checkpoint_dir, last_checkpoint), last_epoch"
   ]
  },
  {
   "cell_type": "code",
   "execution_count": 22,
   "metadata": {},
   "outputs": [
    {
     "name": "stdout",
     "output_type": "stream",
     "text": [
      "No checkpoint found. Starting from scratch.\n",
      "Epoch 1, Loss: 1.3559170074170204\n",
      "Model saved at checkpoints_cnn/model_epoch_1.pth\n",
      "Epoch 2, Loss: 0.9570983177255792\n",
      "Model saved at checkpoints_cnn/model_epoch_2.pth\n",
      "Epoch 3, Loss: 0.7832975501904402\n",
      "Model saved at checkpoints_cnn/model_epoch_3.pth\n",
      "Epoch 4, Loss: 0.6453608965782254\n",
      "Model saved at checkpoints_cnn/model_epoch_4.pth\n",
      "Epoch 5, Loss: 0.5180220688929034\n",
      "Model saved at checkpoints_cnn/model_epoch_5.pth\n",
      "Epoch 6, Loss: 0.4018580437354419\n",
      "Model saved at checkpoints_cnn/model_epoch_6.pth\n",
      "Epoch 7, Loss: 0.3021884016178148\n",
      "Model saved at checkpoints_cnn/model_epoch_7.pth\n",
      "Epoch 8, Loss: 0.23489788625760913\n",
      "Model saved at checkpoints_cnn/model_epoch_8.pth\n",
      "Epoch 9, Loss: 0.18700672425520237\n",
      "Model saved at checkpoints_cnn/model_epoch_9.pth\n",
      "Epoch 10, Loss: 0.15444398666863018\n",
      "Model saved at checkpoints_cnn/model_epoch_10.pth\n",
      "Epoch 11, Loss: 0.13865851874872948\n",
      "Model saved at checkpoints_cnn/model_epoch_11.pth\n",
      "Epoch 12, Loss: 0.12487255945287244\n",
      "Model saved at checkpoints_cnn/model_epoch_12.pth\n",
      "Epoch 13, Loss: 0.10733304692484687\n",
      "Model saved at checkpoints_cnn/model_epoch_13.pth\n",
      "Epoch 14, Loss: 0.10843494425341964\n",
      "Model saved at checkpoints_cnn/model_epoch_14.pth\n",
      "Epoch 15, Loss: 0.097238654522654\n",
      "Model saved at checkpoints_cnn/model_epoch_15.pth\n"
     ]
    }
   ],
   "source": [
    "device = torch.device(\"mps\" if torch.backends.mps.is_available() else \"cpu\")\n",
    "model.to(device)\n",
    "def train_model(model, trainloader, criterion, optimizer, num_epochs=10):\n",
    "    checkpoint_path, start_epoch = find_last_checkpoint()\n",
    "    if checkpoint_path:\n",
    "        print(f\"Resuming training from {checkpoint_path}\")\n",
    "        model.load_state_dict(torch.load(checkpoint_path))\n",
    "    else:\n",
    "        print(\"No checkpoint found. Starting from scratch.\")\n",
    "        start_epoch = 0\n",
    "    for epoch in range(start_epoch, num_epochs):\n",
    "        running_loss = 0.0\n",
    "        for inputs, labels in trainloader:\n",
    "            inputs, labels = inputs.to(device), labels.to(device)\n",
    "            optimizer.zero_grad()\n",
    "            outputs = model(inputs)\n",
    "            loss = criterion(outputs, labels)\n",
    "            loss.backward()\n",
    "            optimizer.step()\n",
    "            running_loss += loss.item()\n",
    "        print(f\"Epoch {epoch + 1}, Loss: {running_loss / len(trainloader)}\")\n",
    "        checkpoint_path = os.path.join(checkpoint_dir, f'model_epoch_{epoch + 1}.pth')\n",
    "        torch.save(model.state_dict(), checkpoint_path)\n",
    "        print(f\"Model saved at {checkpoint_path}\")\n",
    "train_model(model, trainloader, criterion, optimizer, num_epochs=15)"
   ]
  },
  {
   "cell_type": "code",
   "execution_count": 23,
   "metadata": {},
   "outputs": [
    {
     "name": "stdout",
     "output_type": "stream",
     "text": [
      "Loading latest checkpoint from checkpoints_cnn/model_epoch_15.pth\n"
     ]
    },
    {
     "name": "stderr",
     "output_type": "stream",
     "text": [
      "/var/folders/tq/jtgfkbln5bv4lmlbq2tvnq1h0000gn/T/ipykernel_11893/1637848378.py:5: FutureWarning: You are using `torch.load` with `weights_only=False` (the current default value), which uses the default pickle module implicitly. It is possible to construct malicious pickle data which will execute arbitrary code during unpickling (See https://github.com/pytorch/pytorch/blob/main/SECURITY.md#untrusted-models for more details). In a future release, the default value for `weights_only` will be flipped to `True`. This limits the functions that could be executed during unpickling. Arbitrary objects will no longer be allowed to be loaded via this mode unless they are explicitly allowlisted by the user via `torch.serialization.add_safe_globals`. We recommend you start setting `weights_only=True` for any use case where you don't have full control of the loaded file. Please open an issue on GitHub for any issues related to this experimental feature.\n",
      "  model.load_state_dict(torch.load(checkpoint_path))\n"
     ]
    },
    {
     "name": "stdout",
     "output_type": "stream",
     "text": [
      "Accuracy: 67.64%\n"
     ]
    },
    {
     "data": {
      "text/plain": [
       "67.64"
      ]
     },
     "execution_count": 23,
     "metadata": {},
     "output_type": "execute_result"
    }
   ],
   "source": [
    "def evaluate_model(testloader):\n",
    "    checkpoint_path, start_epoch = find_last_checkpoint()\n",
    "    if checkpoint_path:\n",
    "        print(f\"Loading latest checkpoint from {checkpoint_path}\")\n",
    "        model.load_state_dict(torch.load(checkpoint_path))\n",
    "    else:\n",
    "        print(\"No checkpoint found. Evaluating with the current model state.\")\n",
    "        return \"No checkpoints\"\n",
    "    model.eval()\n",
    "    correct = 0\n",
    "    total = 0\n",
    "    with torch.no_grad():\n",
    "        for inputs, labels in testloader:\n",
    "            inputs, labels = inputs.to(device), labels.to(device)\n",
    "            outputs = model(inputs)\n",
    "            _, predicted = torch.max(outputs, 1)\n",
    "            total += labels.size(0)\n",
    "            correct += (predicted == labels).sum().item()\n",
    "    accuracy = 100 * correct / total\n",
    "    print(f\"Accuracy: {accuracy}%\")\n",
    "    return accuracy\n",
    "evaluate_model(testloader=testloader)"
   ]
  },
  {
   "cell_type": "code",
   "execution_count": 24,
   "metadata": {},
   "outputs": [
    {
     "name": "stdout",
     "output_type": "stream",
     "text": [
      "CNN(\n",
      "  (conv1): Conv2d(3, 32, kernel_size=(3, 3), stride=(1, 1), padding=(1, 1))\n",
      "  (pool): MaxPool2d(kernel_size=2, stride=2, padding=0, dilation=1, ceil_mode=False)\n",
      "  (conv2): Conv2d(32, 64, kernel_size=(3, 3), stride=(1, 1), padding=(1, 1))\n",
      "  (conv3): Conv2d(64, 128, kernel_size=(3, 3), stride=(1, 1), padding=(1, 1))\n",
      "  (fc1): Linear(in_features=32768, out_features=256, bias=True)\n",
      "  (fc2): Linear(in_features=256, out_features=10, bias=True)\n",
      ")\n"
     ]
    }
   ],
   "source": [
    "print(model)"
   ]
  }
 ],
 "metadata": {
  "kernelspec": {
   "display_name": "Python 3",
   "language": "python",
   "name": "python3"
  },
  "language_info": {
   "codemirror_mode": {
    "name": "ipython",
    "version": 3
   },
   "file_extension": ".py",
   "mimetype": "text/x-python",
   "name": "python",
   "nbconvert_exporter": "python",
   "pygments_lexer": "ipython3",
   "version": "3.8.20"
  }
 },
 "nbformat": 4,
 "nbformat_minor": 2
}
